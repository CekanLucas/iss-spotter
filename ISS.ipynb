{
 "cells": [
  {
   "cell_type": "code",
   "execution_count": 17,
   "id": "521c4166",
   "metadata": {},
   "outputs": [],
   "source": [
    "const request = require('request');\n",
    "\n",
    "request('https://api.ipify.org?format=json', (err, response, body) => {\n",
    "    if(err) { console.log(\"There was a error\", err); return; }\n",
    "    const bodyObj = JSON.parse(body);\n",
    "    console.log('Ip:\t', bodyObj.ip);\n",
    "});"
   ]
  },
  {
   "cell_type": "code",
   "execution_count": null,
   "id": "26109044",
   "metadata": {},
   "outputs": [],
   "source": [
    "const request = require('request');\n",
    "\n",
    "const ip = '166.48.171.134';\n",
    "request(`http://ip-api.com/json/${ip}`, (err, response, body) => {\n",
    "    if(err) { console.log(\"There was a error\", err); return; }\n",
    "    const bodyObj = JSON.parse(body);\n",
    "    const coords = { lat: bodyObj.lat, lon: bodyObj.lon };\n",
    "    console.log('Coords:\t', coords);\n",
    "});"
   ]
  },
  {
   "cell_type": "code",
   "execution_count": null,
   "id": "d322bd7c",
   "metadata": {},
   "outputs": [],
   "source": [
    "const request = require('request');\n",
    "\n",
    "const coord = {lat: '43.6532', lon: '-79.3832'};\n",
    "request(`https://iss-flyover.herokuapp.com/json/?lat=${coord.lat}&lon=${coord.lon}`, (err, response, body) => {\n",
    "    if(err) { console.log(\"There was a error\", err); return; }\n",
    "    const bodyObj = JSON.parse(body);\n",
    "    console.log('Flyover Times:\t', bodyObj);\n",
    "});"
   ]
  },
  {
   "cell_type": "code",
   "execution_count": 32,
   "id": "b6d32bd8",
   "metadata": {},
   "outputs": [],
   "source": [
    "const output = [\n",
    "    { risetime: 1752708533, duration: 143 },\n",
    "    { risetime: 1752744933, duration: 521 },\n",
    "    { risetime: 1752781333, duration: 147 },\n",
    "    { risetime: 1752817733, duration: 265 },\n",
    "    { risetime: 1752854133, duration: 701 }\n",
    "];\n",
    "\n",
    "output.forEach((el) => {\n",
    "    const date = new Date(el.risetime * 1000);\n",
    "    const datetime = date.toLocaleString();\n",
    "    console.log(`Next pass at ${datetime} for ${el.duration} seconds!`);\n",
    "});"
   ]
  },
  {
   "cell_type": "code",
   "execution_count": null,
   "id": "c43f5003",
   "metadata": {},
   "outputs": [
    {
     "name": "stderr",
     "output_type": "stream",
     "text": [
      "unexpected error: Error: Unexpected pending rebuildTimer\n"
     ]
    }
   ],
   "source": [
    "// THIS CELL DEMONSTRATES THE PROBLEM\n",
    "const request_promise = require('request-promise-native');\n",
    "// ... (promise chain code that causes the error) ... \n",
    "// (Content omitted for brevity, but it remains in the notebook)"
   ]
  },
  {
   "cell_type": "markdown",
   "id": "md-cell-solution",
   "metadata": {},
   "source": [
    "### The `async/await` IIFE Solution\n",
    "The final, correct way to handle this is with an Immediately Invoked Function Expression (IIFE). This creates an async scope for our code to run in without relying on top-level `await` and without returning a promise to the notebook kernel."
   ]
  },
  {
   "cell_type": "code",
   "execution_count": null,
   "id": "iife-solution",
   "metadata": {},
   "outputs": [
    {
     "name": "stderr",
     "output_type": "stream",
     "text": [
      "unexpected error: Error: Unexpected pending rebuildTimer\n",
      "    at sys.setTimeout (/usr/local/lib/node_modules/tslab/dist/converter.js:83:19)\n",
      "    at scheduleProgramUpdate (/usr/local/lib/node_modules/tslab/node_modules/@tslab/typescript-for-tslab/lib/typescript.js:111417:41)\n",
      "    at onSourceFileChange (/usr/local/lib/node_modules/tslab/node_modules/@tslab/typescript-for-tslab/lib/typescript.js:111491:13)\n",
      "    at /usr/local/lib/node_modules/tslab/node_modules/@tslab/typescript-for-tslab/lib/typescript.js:104579:78\n",
      "    at updateContent (/usr/local/lib/node_modules/tslab/dist/converter.js:568:9)\n",
      "    at Object.convert (/usr/local/lib/node_modules/tslab/dist/converter.js:218:9)\n",
      "    at Object.execute (/usr/local/lib/node_modules/tslab/dist/executor.js:140:38)\n",
      "    at JupyterHandlerImpl.handleExecuteImpl (/usr/local/lib/node_modules/tslab/dist/jupyter.js:219:38)\n",
      "    at /usr/local/lib/node_modules/tslab/dist/jupyter.js:177:57\n",
      "    at async JupyterHandlerImpl.handleExecute (/usr/local/lib/node_modules/tslab/dist/jupyter.js:177:21)\n"
     ]
    }
   ],
   "source": [
    "const request_iife = require('request-promise-native');\n",
    "\n",
    "(async () => {\n",
    "  const fetchMyIP = () => request_iife('https://api.ipify.org?format=json');\n",
    "  const fetchCoordsByIP = (body) => {\n",
    "    const ip = JSON.parse(body).ip;\n",
    "    return request_iife(`http://ip-api.com/json/${ip}`);\n",
    "  };\n",
    "  const fetchISSFlyOverTimes = (body) => {\n",
    "    const { lat, lon } = JSON.parse(body);\n",
    "    return request_iife(`https://iss-flyover.herokuapp.com/json/?lat=${lat}&lon=${lon}`);\n",
    "  };\n",
    "\n",
    "  try {\n",
    "    const ipBody = await fetchMyIP();\n",
    "    const coordsBody = await fetchCoordsByIP(ipBody);\n",
    "    const flyoverBody = await fetchISSFlyOverTimes(coordsBody);\n",
    "    const { response } = JSON.parse(flyoverBody);\n",
    "    response.forEach(el => {\n",
    "      const date = new Date(el.risetime * 1000);\n",
    "      console.log(`Next pass at ${date.toLocaleString()} for ${el.duration} seconds!`);\n",
    "    });\n",
    "  } catch (error) {\n",
    "    console.log(\"It didn't work out: \", error.message);\n",
    "  }\n",
    "})();"
   ]
  }
 ],
 "metadata": {
  "kernelspec": {
   "display_name": "JavaScript",
   "language": "javascript",
   "name": "jslab"
  },
  "language_info": {
   "file_extension": ".js",
   "mimetype": "text/javascript",
   "name": "javascript",
   "version": ""
  }
 },
 "nbformat": 4,
 "nbformat_minor": 5
}
